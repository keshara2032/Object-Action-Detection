{
 "cells": [
  {
   "cell_type": "code",
   "execution_count": 14,
   "metadata": {},
   "outputs": [],
   "source": [
    "import torch\n",
    "import clip\n",
    "from PIL import Image\n",
    "import time"
   ]
  },
  {
   "cell_type": "code",
   "execution_count": 21,
   "metadata": {},
   "outputs": [
    {
     "name": "stdout",
     "output_type": "stream",
     "text": [
      "time_taken:  5.64236\n",
      "torch.Size([3, 512])\n",
      "Label probs: 0.9976\n"
     ]
    }
   ],
   "source": [
    "device = \"cuda\" if torch.cuda.is_available() else \"cpu\"\n",
    "model, preprocess = clip.load(\"ViT-B/32\", device=device)\n",
    "\n",
    "image = preprocess(Image.open(\"./images/cv - ecg - 12 lead obtained/ecg_3.jpg\")).unsqueeze(0).to(device)\n",
    "text = clip.tokenize([\"12 ecg leads on chest\", \"attaching defib pads\", \"a cat\"]).to(device)\n",
    "\n",
    "with torch.no_grad():\n",
    "    start_t = time.time_ns()\n",
    "    image_features = model.encode_image(image)\n",
    "    text_features = model.encode_text(text)\n",
    "    print('time_taken: ',(time.time_ns() - start_t)/1e6)\n",
    "    \n",
    "    logits_per_image, logits_per_text = model(image, text)\n",
    "    \n",
    "    probs = logits_per_image.softmax(dim=-1).cpu().numpy()\n",
    "    \n",
    "    print(text_features.shape)\n",
    "\n",
    "print(\"Label probs:\", probs[probs.argmax()][0])  # prints: [[0.9927937  0.00421068 0.00299572]]"
   ]
  }
 ],
 "metadata": {
  "kernelspec": {
   "display_name": "emsvisionv2",
   "language": "python",
   "name": "python3"
  },
  "language_info": {
   "codemirror_mode": {
    "name": "ipython",
    "version": 3
   },
   "file_extension": ".py",
   "mimetype": "text/x-python",
   "name": "python",
   "nbconvert_exporter": "python",
   "pygments_lexer": "ipython3",
   "version": "3.8.16"
  },
  "orig_nbformat": 4
 },
 "nbformat": 4,
 "nbformat_minor": 2
}
