{
 "cells": [
  {
   "cell_type": "code",
   "execution_count": 11,
   "metadata": {},
   "outputs": [],
   "source": [
    "from transformers import pipeline\n",
    "from utils import *\n",
    "import glob\n",
    "import numpy as np\n",
    "import time"
   ]
  },
  {
   "cell_type": "code",
   "execution_count": 12,
   "metadata": {},
   "outputs": [
    {
     "name": "stderr",
     "output_type": "stream",
     "text": [
      "`text_config_dict` is provided which will be used to initialize `CLIPTextConfig`. The value `text_config[\"id2label\"]` will be overriden.\n",
      "`text_config_dict` is provided which will be used to initialize `CLIPTextConfig`. The value `text_config[\"id2label\"]` will be overriden.\n",
      "Could not find image processor class in the image processor config or the model config. Loading based on pattern matching with the model's feature extractor configuration.\n"
     ]
    }
   ],
   "source": [
    "# More models in the model hub.\n",
    "model_name = \"openai/clip-vit-large-patch14-336\"\n",
    "classifier = pipeline(\"zero-shot-image-classification\", model = model_name)"
   ]
  },
  {
   "cell_type": "code",
   "execution_count": null,
   "metadata": {},
   "outputs": [],
   "source": []
  },
  {
   "cell_type": "code",
   "execution_count": 13,
   "metadata": {},
   "outputs": [],
   "source": [
    "\n",
    "\n",
    "def classify(image,labels):\n",
    "    start_t = time.time_ns()\n",
    "    scores = classifier(image, \n",
    "                        candidate_labels = labels)\n",
    "    end_t = time.time_ns()\n",
    "    \n",
    "    latency = (end_t-start_t)/1e6\n",
    "    \n",
    "    print(scores,latency)\n",
    "    return scores,latency"
   ]
  },
  {
   "cell_type": "code",
   "execution_count": 22,
   "metadata": {},
   "outputs": [
    {
     "name": "stdout",
     "output_type": "stream",
     "text": [
      "[{'score': 0.7819769978523254, 'label': 'Placing BVM mask on face'}, {'score': 0.10133299976587296, 'label': 'Inserting IV to arm'}, {'score': 0.08622653782367706, 'label': 'Attaching nebulizer'}, {'score': 0.01762593910098076, 'label': 'BVM Mask'}, {'score': 0.007422406692057848, 'label': 'Inserting IV to leg'}, {'score': 0.005415155086666346, 'label': 'Nebulizer mask'}] 1766.76578\n",
      "[{'score': 0.9747033715248108, 'label': 'Placing BVM mask on face'}, {'score': 0.014650977216660976, 'label': 'Attaching nebulizer'}, {'score': 0.004635334014892578, 'label': 'Inserting IV to arm'}, {'score': 0.003119581611827016, 'label': 'Nebulizer mask'}, {'score': 0.002657809993252158, 'label': 'BVM Mask'}, {'score': 0.00023298444284591824, 'label': 'Inserting IV to leg'}] 1719.612757\n",
      "[{'score': 0.9720346927642822, 'label': 'Placing BVM mask on face'}, {'score': 0.010491243563592434, 'label': 'Attaching nebulizer'}, {'score': 0.01009914930909872, 'label': 'BVM Mask'}, {'score': 0.0036670719273388386, 'label': 'Nebulizer mask'}, {'score': 0.003433978883549571, 'label': 'Inserting IV to arm'}, {'score': 0.0002738379698712379, 'label': 'Inserting IV to leg'}] 1577.436527\n",
      "[{'score': 0.5940059423446655, 'label': 'Attaching nebulizer'}, {'score': 0.2701534926891327, 'label': 'Placing BVM mask on face'}, {'score': 0.12120372802019119, 'label': 'Nebulizer mask'}, {'score': 0.011397612281143665, 'label': 'Inserting IV to arm'}, {'score': 0.0025282837450504303, 'label': 'BVM Mask'}, {'score': 0.0007109350408427417, 'label': 'Inserting IV to leg'}] 1573.272102\n",
      "[{'score': 0.6597080230712891, 'label': 'Placing BVM mask on face'}, {'score': 0.20668436586856842, 'label': 'Attaching nebulizer'}, {'score': 0.11558305472135544, 'label': 'Nebulizer mask'}, {'score': 0.01657511107623577, 'label': 'BVM Mask'}, {'score': 0.0014062117552384734, 'label': 'Inserting IV to arm'}, {'score': 4.324007750255987e-05, 'label': 'Inserting IV to leg'}] 1594.008344\n"
     ]
    }
   ],
   "source": [
    "protocol = \"adult_cardiact_arrest_protocol\"\n",
    "protocol = \"respiratory_distress_protocol\"\n",
    "\n",
    "labels_for_classification = generate_labels(protocol)\n",
    "\n",
    "# assign directory\n",
    "directory = './images/resp - assist ventilation - bvm via mask/'\n",
    "\n",
    "accuracy = []\n",
    "# iterate over files in\n",
    "# that directory\n",
    "for filename in glob.iglob(f'{directory}/*'):\n",
    "    model_scores,model_latency = classify(filename,labels_for_classification)\n",
    "    accuracy.append( {\"image\":filename, \"results\": model_scores, \"latency\": model_latency})"
   ]
  },
  {
   "cell_type": "code",
   "execution_count": 23,
   "metadata": {},
   "outputs": [
    {
     "name": "stdout",
     "output_type": "stream",
     "text": [
      "Image:  ./images/resp - assist ventilation - bvm via mask/assist_bvm_4.jpg Latency(ms) 1766.76578 Scores: {'score': 0.7819769978523254, 'label': 'Placing BVM mask on face'}\n",
      "Image:  ./images/resp - assist ventilation - bvm via mask/assist_bvm_2.jpg Latency(ms) 1719.612757 Scores: {'score': 0.9747033715248108, 'label': 'Placing BVM mask on face'}\n",
      "Image:  ./images/resp - assist ventilation - bvm via mask/assist_bvm_3.jpg Latency(ms) 1577.436527 Scores: {'score': 0.9720346927642822, 'label': 'Placing BVM mask on face'}\n",
      "Image:  ./images/resp - assist ventilation - bvm via mask/assist_bvm_1.jpg Latency(ms) 1573.272102 Scores: {'score': 0.5940059423446655, 'label': 'Attaching nebulizer'}\n",
      "Image:  ./images/resp - assist ventilation - bvm via mask/assist_bvm_5.jpg Latency(ms) 1594.008344 Scores: {'score': 0.6597080230712891, 'label': 'Placing BVM mask on face'}\n",
      "Average Accuracy: 0.7964858055114746\n",
      "Average Latency(s): 1.6462191020000003\n"
     ]
    }
   ],
   "source": [
    "avg_accuracy = []\n",
    "avg_latency = []\n",
    "for result in accuracy:\n",
    "    print('Image: ',result['image'],'Latency(ms)',result['latency'],'Scores:',result['results'][0], )\n",
    "    avg_accuracy.append(result['results'][0]['score'])\n",
    "    avg_latency.append(result['latency'])\n",
    "    \n",
    "print(\"Average Accuracy:\",np.average(avg_accuracy))\n",
    "print(\"Average Latency(s):\",np.average(avg_latency)/1e3)"
   ]
  },
  {
   "cell_type": "markdown",
   "metadata": {},
   "source": [
    "EMS Procedure Engine"
   ]
  },
  {
   "cell_type": "code",
   "execution_count": null,
   "metadata": {},
   "outputs": [],
   "source": [
    "def detect_procedure(image, protocol, classifier):\n",
    "    \n",
    "    labels_for_classification = generate_labels(protocol)\n",
    "    scores = classifier(image, \n",
    "                    candidate_labels = labels_for_classification)\n",
    "    \n",
    "    \n",
    "    \n",
    "    \n"
   ]
  }
 ],
 "metadata": {
  "kernelspec": {
   "display_name": "emsvision",
   "language": "python",
   "name": "python3"
  },
  "language_info": {
   "codemirror_mode": {
    "name": "ipython",
    "version": 3
   },
   "file_extension": ".py",
   "mimetype": "text/x-python",
   "name": "python",
   "nbconvert_exporter": "python",
   "pygments_lexer": "ipython3",
   "version": "3.8.16"
  },
  "orig_nbformat": 4,
  "vscode": {
   "interpreter": {
    "hash": "b489566ffca2863420252a73146fda0942ed284d4eaed9e170766e78c6aa9923"
   }
  }
 },
 "nbformat": 4,
 "nbformat_minor": 2
}
