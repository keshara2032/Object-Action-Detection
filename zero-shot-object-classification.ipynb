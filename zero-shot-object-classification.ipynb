{
 "cells": [
  {
   "cell_type": "code",
   "execution_count": 8,
   "metadata": {},
   "outputs": [],
   "source": [
    "from transformers import pipeline\n",
    "from utils import *\n"
   ]
  },
  {
   "cell_type": "code",
   "execution_count": 4,
   "metadata": {},
   "outputs": [
    {
     "name": "stderr",
     "output_type": "stream",
     "text": [
      "`text_config_dict` is provided which will be used to initialize `CLIPTextConfig`. The value `text_config[\"id2label\"]` will be overriden.\n",
      "`text_config_dict` is provided which will be used to initialize `CLIPTextConfig`. The value `text_config[\"id2label\"]` will be overriden.\n",
      "Could not find image processor class in the image processor config or the model config. Loading based on pattern matching with the model's feature extractor configuration.\n"
     ]
    }
   ],
   "source": [
    "# More models in the model hub.\n",
    "model_name = \"openai/clip-vit-large-patch14-336\"\n",
    "classifier = pipeline(\"zero-shot-image-classification\", model = model_name)"
   ]
  },
  {
   "cell_type": "code",
   "execution_count": 9,
   "metadata": {},
   "outputs": [],
   "source": [
    "image_to_classify = \"./images/iv start - extremity vein/iv_arm_1.jpeg\"\n",
    "protocol = \"respiratory_distress_protocol\"\n",
    "\n",
    "labels_for_classification = generate_labels(protocol)\n",
    "\n",
    "scores = classifier(image_to_classify, \n",
    "                    candidate_labels = labels_for_classification)"
   ]
  },
  {
   "cell_type": "code",
   "execution_count": 10,
   "metadata": {},
   "outputs": [
    {
     "data": {
      "text/plain": [
       "[{'score': 0.7814044952392578, 'label': 'Inserting IV to arm'},\n",
       " {'score': 0.213990718126297, 'label': 'Inserting IV to leg'},\n",
       " {'score': 0.0032281570602208376, 'label': 'Inserting endotracheal tube'},\n",
       " {'score': 0.0007645771256648004, 'label': 'Inserting airway adjunct'},\n",
       " {'score': 0.0002478131209500134, 'label': 'Endotracheal intubation'},\n",
       " {'score': 0.0002350569993723184, 'label': 'Attaching metered dose inhaler'},\n",
       " {'score': 6.894974649185315e-05, 'label': 'Administering albuterol'},\n",
       " {'score': 5.5250933655770496e-05, 'label': 'Placing BVM mask'},\n",
       " {'score': 4.070808245160151e-06, 'label': 'Attaching nebulizer'},\n",
       " {'score': 7.743465175735764e-07, 'label': 'BVM Mask'},\n",
       " {'score': 2.0152546653662284e-07, 'label': 'Nebulizer mask'}]"
      ]
     },
     "execution_count": 10,
     "metadata": {},
     "output_type": "execute_result"
    }
   ],
   "source": [
    "scores"
   ]
  },
  {
   "cell_type": "markdown",
   "metadata": {},
   "source": [
    "EMS Procedure Engine"
   ]
  },
  {
   "cell_type": "code",
   "execution_count": null,
   "metadata": {},
   "outputs": [],
   "source": [
    "def detect_procedure(image, protocol, classifier):\n",
    "    \n",
    "    labels_for_classification = generate_labels(protocol)\n",
    "    scores = classifier(image, \n",
    "                    candidate_labels = labels_for_classification)\n",
    "    \n",
    "    \n",
    "    \n",
    "    \n"
   ]
  }
 ],
 "metadata": {
  "kernelspec": {
   "display_name": "emsvision",
   "language": "python",
   "name": "python3"
  },
  "language_info": {
   "codemirror_mode": {
    "name": "ipython",
    "version": 3
   },
   "file_extension": ".py",
   "mimetype": "text/x-python",
   "name": "python",
   "nbconvert_exporter": "python",
   "pygments_lexer": "ipython3",
   "version": "3.8.16"
  },
  "orig_nbformat": 4,
  "vscode": {
   "interpreter": {
    "hash": "b489566ffca2863420252a73146fda0942ed284d4eaed9e170766e78c6aa9923"
   }
  }
 },
 "nbformat": 4,
 "nbformat_minor": 2
}
