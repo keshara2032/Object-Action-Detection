{
 "cells": [
  {
   "cell_type": "code",
   "execution_count": 15,
   "metadata": {},
   "outputs": [],
   "source": [
    "from transformers import pipeline"
   ]
  },
  {
   "cell_type": "code",
   "execution_count": 16,
   "metadata": {},
   "outputs": [
    {
     "name": "stderr",
     "output_type": "stream",
     "text": [
      "`text_config_dict` is provided which will be used to initialize `CLIPTextConfig`. The value `text_config[\"id2label\"]` will be overriden.\n",
      "`text_config_dict` is provided which will be used to initialize `CLIPTextConfig`. The value `text_config[\"id2label\"]` will be overriden.\n",
      "Could not find image processor class in the image processor config or the model config. Loading based on pattern matching with the model's feature extractor configuration.\n"
     ]
    }
   ],
   "source": [
    "# More models in the model hub.\n",
    "model_name = \"openai/clip-vit-large-patch14-336\"\n",
    "classifier = pipeline(\"zero-shot-image-classification\", model = model_name)"
   ]
  },
  {
   "cell_type": "markdown",
   "metadata": {},
   "source": [
    "#### Label wrt Protocol Procedure"
   ]
  },
  {
   "cell_type": "code",
   "execution_count": 79,
   "metadata": {},
   "outputs": [],
   "source": [
    "# cardiac arrest, chest pain?\n",
    "cv_ecg_12_lead = [\"ECG Monitor\",\"ECG 12 lead placement\"]\n",
    "cv_defibrillation_manual = [\"Defibrillator\",\"Defib pads attachment\"]\n",
    "cpr_manual = []\n",
    "\n",
    "# respiratory distress\n",
    "resp_assist_ventilation_bvm_via_mask = [\"BVM Mask\", \"Attaching BVM Mask\"]\n",
    "resp_nebulizer_therapy = [\"Attaching Nebulizer\", \"Nebulizer Mask\"]\n",
    "\n",
    "# general\n",
    "iv_start = [\"Inserting IV to arm\",\"Inserting IV to leg\"]"
   ]
  },
  {
   "cell_type": "code",
   "execution_count": 86,
   "metadata": {},
   "outputs": [],
   "source": [
    "image_to_classify = \"./images/iv start - extremity vein/iv_arm_1.jpeg\"\n",
    "\n",
    "labels_for_classification = iv_start+  resp_assist_ventilation_bvm_via_mask + cv_ecg_12_lead + resp_nebulizer_therapy\n",
    "scores = classifier(image_to_classify, \n",
    "                    candidate_labels = labels_for_classification)"
   ]
  },
  {
   "cell_type": "code",
   "execution_count": 87,
   "metadata": {},
   "outputs": [
    {
     "data": {
      "text/plain": [
       "[{'score': 0.7846152186393738, 'label': 'Inserting IV to arm'},\n",
       " {'score': 0.2148704081773758, 'label': 'Inserting IV to leg'},\n",
       " {'score': 0.00043944327626377344, 'label': 'Attaching BVM Mask'},\n",
       " {'score': 5.8845485909841955e-05, 'label': 'ECG 12 lead placement'},\n",
       " {'score': 1.0952401680697221e-05, 'label': 'ECG Monitor'},\n",
       " {'score': 4.087542492925422e-06, 'label': 'Attaching Nebulizer'},\n",
       " {'score': 7.775275321364461e-07, 'label': 'BVM Mask'},\n",
       " {'score': 2.0235295039583434e-07, 'label': 'Nebulizer Mask'}]"
      ]
     },
     "execution_count": 87,
     "metadata": {},
     "output_type": "execute_result"
    }
   ],
   "source": [
    "scores"
   ]
  }
 ],
 "metadata": {
  "kernelspec": {
   "display_name": "emsvision",
   "language": "python",
   "name": "python3"
  },
  "language_info": {
   "codemirror_mode": {
    "name": "ipython",
    "version": 3
   },
   "file_extension": ".py",
   "mimetype": "text/x-python",
   "name": "python",
   "nbconvert_exporter": "python",
   "pygments_lexer": "ipython3",
   "version": "3.8.16"
  },
  "orig_nbformat": 4,
  "vscode": {
   "interpreter": {
    "hash": "b489566ffca2863420252a73146fda0942ed284d4eaed9e170766e78c6aa9923"
   }
  }
 },
 "nbformat": 4,
 "nbformat_minor": 2
}
